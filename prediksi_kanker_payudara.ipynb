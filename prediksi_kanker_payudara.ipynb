{
 "cells": [
  {
   "cell_type": "markdown",
   "id": "615d47eb",
   "metadata": {},
   "source": [
    "\n",
    "# Prediksi Kanker Payudara\n",
    "Notebook ini bertujuan untuk membangun model klasifikasi untuk memprediksi apakah suatu tumor payudara bersifat **ganas (malignant)** atau **jinak (benign)** menggunakan dataset dari **Wisconsin Breast Cancer Dataset**.\n"
   ]
  },
  {
   "cell_type": "markdown",
   "id": "9e5ef183",
   "metadata": {},
   "source": [
    "\n",
    "## a. Deskripsi Masalah\n",
    "Kanker payudara merupakan salah satu penyebab utama kematian pada wanita di seluruh dunia. Deteksi dini terhadap kanker payudara dapat meningkatkan peluang kesembuhan. Oleh karena itu, diperlukan sistem prediktif yang mampu mengidentifikasi sifat tumor berdasarkan data medis pasien. Masalah yang ingin diselesaikan adalah:\n",
    "> **Memprediksi apakah tumor payudara bersifat ganas atau jinak berdasarkan fitur-fitur medis.**\n"
   ]
  },
  {
   "cell_type": "markdown",
   "id": "3a9d30bf",
   "metadata": {},
   "source": [
    "\n",
    "## b. Jenis Masalah dan Isi Data\n",
    "Masalah ini merupakan masalah **klasifikasi** karena target output berupa dua kelas:\n",
    "- **Malignant** (Ganas)\n",
    "- **Benign** (Jinak)\n",
    "\n",
    "Dataset yang digunakan adalah *Wisconsin Breast Cancer Dataset* yang berisi:\n",
    "- Fitur-fitur numerik hasil pengukuran dari citra digital jaringan payudara.\n",
    "- Target berupa diagnosis (`M` untuk Malignant dan `B` untuk Benign).\n"
   ]
  },
  {
   "cell_type": "markdown",
   "id": "959c0b38",
   "metadata": {},
   "source": [
    "\n",
    "## c. Tahapan Penyelesaian Masalah\n",
    "Berikut adalah tahapan penyelesaian masalah:\n",
    "\n",
    "1. Import library dan dataset\n",
    "2. Eksplorasi dan pra-pemrosesan data\n",
    "3. Pemisahan data latih dan uji\n",
    "4. Pelatihan model klasifikasi\n",
    "5. Evaluasi performa model\n",
    "6. Rekomendasi peningkatan model\n",
    "\n",
    "```mermaid\n",
    "graph TD;\n",
    "    A[Import Dataset] --> B[Preprocessing];\n",
    "    B --> C[Split Data];\n",
    "    C --> D[Train Model];\n",
    "    D --> E[Evaluate];\n",
    "    E --> F[Rekomendasi];\n",
    "```\n"
   ]
  },
  {
   "cell_type": "markdown",
   "id": "45de3428",
   "metadata": {},
   "source": [
    "\n",
    "## d. Error Metric yang Digunakan\n",
    "Metode evaluasi yang digunakan adalah:\n",
    "\n",
    "- **Accuracy**: Proporsi prediksi yang benar.\n",
    "- **Precision, Recall, dan F1-score**: Digunakan untuk mengetahui performa model pada masing-masing kelas.\n",
    "- **Confusion Matrix**: Untuk melihat distribusi prediksi.\n",
    "\n",
    "Alasan memilih metrik-metrik tersebut adalah karena:\n",
    "- Klasifikasi ini menyangkut diagnosis kanker, maka **false negative** (kanker tidak terdeteksi) lebih berbahaya dibanding false positive.\n",
    "- Oleh karena itu, **Recall** pada kelas 'Malignant' menjadi sangat penting.\n"
   ]
  },
  {
   "cell_type": "code",
   "execution_count": null,
   "id": "39930463",
   "metadata": {},
   "outputs": [],
   "source": [
    "\n",
    "# 1. Import Library\n",
    "import pandas as pd\n",
    "import numpy as np\n",
    "from sklearn.datasets import load_breast_cancer\n",
    "from sklearn.model_selection import train_test_split\n",
    "from sklearn.preprocessing import StandardScaler\n",
    "from sklearn.ensemble import RandomForestClassifier\n",
    "from sklearn.metrics import classification_report, confusion_matrix, accuracy_score\n",
    "import seaborn as sns\n",
    "import matplotlib.pyplot as plt\n"
   ]
  },
  {
   "cell_type": "code",
   "execution_count": null,
   "id": "1b7715fb",
   "metadata": {},
   "outputs": [],
   "source": [
    "\n",
    "# 2. Load Dataset\n",
    "data = load_breast_cancer()\n",
    "X = pd.DataFrame(data.data, columns=data.feature_names)\n",
    "y = pd.Series(data.target)\n",
    "\n",
    "print(\"Jumlah data:\", X.shape)\n",
    "X.head()\n"
   ]
  },
  {
   "cell_type": "code",
   "execution_count": null,
   "id": "6f957651",
   "metadata": {},
   "outputs": [],
   "source": [
    "\n",
    "# 3. Preprocessing\n",
    "scaler = StandardScaler()\n",
    "X_scaled = scaler.fit_transform(X)\n",
    "\n",
    "# Split data\n",
    "X_train, X_test, y_train, y_test = train_test_split(X_scaled, y, test_size=0.2, random_state=42)\n"
   ]
  },
  {
   "cell_type": "code",
   "execution_count": null,
   "id": "632e704f",
   "metadata": {},
   "outputs": [],
   "source": [
    "\n",
    "# 4. Train Model\n",
    "model = RandomForestClassifier(random_state=42)\n",
    "model.fit(X_train, y_train)\n",
    "\n",
    "y_pred = model.predict(X_test)\n"
   ]
  },
  {
   "cell_type": "code",
   "execution_count": null,
   "id": "175b98d7",
   "metadata": {},
   "outputs": [],
   "source": [
    "\n",
    "# 5. Evaluasi Model\n",
    "print(\"Accuracy:\", accuracy_score(y_test, y_pred))\n",
    "print(\"\n",
    "Classification Report:\")\n",
    "print(classification_report(y_test, y_pred, target_names=data.target_names))\n",
    "\n",
    "# Confusion matrix\n",
    "cm = confusion_matrix(y_test, y_pred)\n",
    "sns.heatmap(cm, annot=True, fmt='d', cmap='Blues', xticklabels=data.target_names, yticklabels=data.target_names)\n",
    "plt.xlabel(\"Predicted\")\n",
    "plt.ylabel(\"Actual\")\n",
    "plt.title(\"Confusion Matrix\")\n",
    "plt.show()\n"
   ]
  },
  {
   "cell_type": "markdown",
   "id": "0ec466ae",
   "metadata": {},
   "source": [
    "\n",
    "## e. Evaluasi dan Rekomendasi\n",
    "Model Random Forest menghasilkan akurasi tinggi dan performa yang sangat baik dalam mendeteksi tumor ganas dan jinak.\n",
    "\n",
    "**Rekomendasi:**\n",
    "- Coba model lain seperti SVM, Logistic Regression untuk perbandingan.\n",
    "- Lakukan feature selection untuk mengurangi kompleksitas.\n",
    "- Implementasi teknik cross-validation untuk generalisasi yang lebih baik.\n"
   ]
  }
 ],
 "metadata": {},
 "nbformat": 4,
 "nbformat_minor": 5
}
