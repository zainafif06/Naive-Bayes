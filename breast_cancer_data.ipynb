{
  "nbformat": 4,
  "nbformat_minor": 0,
  "metadata": {
    "colab": {
      "provenance": []
    },
    "kernelspec": {
      "name": "python3",
      "display_name": "Python 3"
    },
    "language_info": {
      "name": "python"
    }
  },
  "cells": [
    {
      "cell_type": "code",
      "execution_count": 1,
      "metadata": {
        "id": "elUn9yssRvHl"
      },
      "outputs": [],
      "source": [
        "# ---------------------------------------\n",
        "# PREDIKSI KANKER PAYUDARA (GANAS / JINAK)\n",
        "# ---------------------------------------\n",
        "\n",
        "# 1. Import Library\n",
        "import pandas as pd\n",
        "import numpy as np\n",
        "import matplotlib.pyplot as plt\n",
        "import seaborn as sns\n",
        "\n",
        "from sklearn.model_selection import train_test_split\n",
        "from sklearn.preprocessing import StandardScaler\n",
        "from sklearn.ensemble import RandomForestClassifier\n",
        "from sklearn.metrics import classification_report, confusion_matrix, accuracy_score\n",
        "import joblib\n",
        "\n",
        "# 2. Load Dataset\n",
        "# Gantilah path di bawah ini jika file CSV kamu ada di folder lain\n",
        "data = pd.read_csv('data/breast_cancer_data.csv')  # Dataset dari UCI\n",
        "print(\"✅ Data berhasil dimuat\")\n",
        "\n",
        "# 3. Eksplorasi Singkat\n",
        "print(f\"Jumlah sampel: {data.shape[0]}, Jumlah fitur: {data.shape[1]}\")\n",
        "print(data['diagnosis'].value_counts())\n",
        "\n",
        "# Visualisasi distribusi diagnosis\n",
        "sns.countplot(x='diagnosis', data=data)\n",
        "plt.title(\"Distribusi Diagnosis (M: Malignant, B: Benign)\")\n",
        "plt.show()\n",
        "\n",
        "# 4. Preprocessing\n",
        "data = data.drop(['id', 'Unnamed: 32'], axis=1, errors='ignore')\n",
        "data['diagnosis'] = data['diagnosis'].map({'M': 1, 'B': 0})\n",
        "\n",
        "X = data.drop('diagnosis', axis=1)\n",
        "y = data['diagnosis']\n",
        "\n",
        "# Normalisasi fitur\n",
        "scaler = StandardScaler()\n",
        "X_scaled = scaler.fit_transform(X)\n",
        "\n",
        "# Split data latih dan uji\n",
        "X_train, X_test, y_train, y_test = train_test_split(\n",
        "    X_scaled, y, test_size=0.2, random_state=42\n",
        ")\n",
        "\n",
        "# 5. Melatih Model\n",
        "model = RandomForestClassifier(n_estimators=100, random_state=42)\n",
        "model.fit(X_train, y_train)\n",
        "print(\"✅ Model selesai dilatih\")\n",
        "\n",
        "# 6. Evaluasi Model\n",
        "y_pred = model.predict(X_test)\n",
        "\n",
        "acc = accuracy_score(y_test, y_pred)\n",
        "print(f\"\\n🎯 Akurasi: {acc * 100:.2f}%\\n\")\n",
        "print(\"📋 Classification Report:\\n\", classification_report(y_test, y_pred))\n",
        "\n",
        "# Confusion Matrix\n",
        "cm = confusion_matrix(y_test, y_pred)\n",
        "sns.heatmap(cm, annot=True, fmt='d', cmap='Blues',\n",
        "            xticklabels=['Benign', 'Malignant'],\n",
        "            yticklabels=['Benign', 'Malignant'])\n",
        "plt.xlabel('Predicted')\n",
        "plt.ylabel('True')\n",
        "plt.title('Confusion Matrix')\n",
        "plt.show()\n",
        "\n",
        "# 7. Simpan Model (opsional)\n",
        "joblib.dump(model, 'model_rf.pkl')\n",
        "print(\"💾 Model disimpan sebagai 'model_rf.pkl'\")\n"
      ]
    },
    {
      "cell_type": "code",
      "source": [],
      "metadata": {
        "id": "J_8rCxUo6veZ"
      },
      "execution_count": null,
      "outputs": []
    },
    {
      "cell_type": "markdown",
      "source": [],
      "metadata": {
        "id": "uiKBFdW68jSe"
      }
    }
  ]
}